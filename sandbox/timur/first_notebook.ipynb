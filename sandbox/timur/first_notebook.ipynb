{
 "cells": [
  {
   "cell_type": "code",
   "execution_count": 82,
   "id": "49ee39e0-b6af-4df7-9712-d39949d4b924",
   "metadata": {
    "ExecuteTime": {
     "end_time": "2025-02-11T08:11:46.780785Z",
     "start_time": "2025-02-11T08:11:46.776783Z"
    }
   },
   "outputs": [],
   "source": [
    "import seaborn as sns\n",
    "import matplotlib.pyplot as plt\n",
    "import pandas as pd\n",
    "import numpy as np\n",
    "from sklearn.preprocessing import OneHotEncoder\n",
    "from sklearn.preprocessing import MultiLabelBinarizer"
   ]
  },
  {
   "cell_type": "code",
   "execution_count": 83,
   "id": "a55301e5-1ad2-4943-b984-3885927a1d6a",
   "metadata": {
    "ExecuteTime": {
     "end_time": "2025-02-11T08:12:32.859784Z",
     "start_time": "2025-02-11T08:12:32.827554Z"
    }
   },
   "outputs": [
    {
     "data": {
      "text/html": [
       "<div>\n",
       "<style scoped>\n",
       "    .dataframe tbody tr th:only-of-type {\n",
       "        vertical-align: middle;\n",
       "    }\n",
       "\n",
       "    .dataframe tbody tr th {\n",
       "        vertical-align: top;\n",
       "    }\n",
       "\n",
       "    .dataframe thead th {\n",
       "        text-align: right;\n",
       "    }\n",
       "</style>\n",
       "<table border=\"1\" class=\"dataframe\">\n",
       "  <thead>\n",
       "    <tr style=\"text-align: right;\">\n",
       "      <th></th>\n",
       "      <th>user_id</th>\n",
       "      <th>sex</th>\n",
       "      <th>age</th>\n",
       "      <th>city_id</th>\n",
       "    </tr>\n",
       "  </thead>\n",
       "  <tbody>\n",
       "    <tr>\n",
       "      <th>0</th>\n",
       "      <td>0</td>\n",
       "      <td>2</td>\n",
       "      <td>19</td>\n",
       "      <td>0</td>\n",
       "    </tr>\n",
       "    <tr>\n",
       "      <th>1</th>\n",
       "      <td>1</td>\n",
       "      <td>1</td>\n",
       "      <td>0</td>\n",
       "      <td>1</td>\n",
       "    </tr>\n",
       "    <tr>\n",
       "      <th>2</th>\n",
       "      <td>2</td>\n",
       "      <td>2</td>\n",
       "      <td>24</td>\n",
       "      <td>2</td>\n",
       "    </tr>\n",
       "    <tr>\n",
       "      <th>3</th>\n",
       "      <td>3</td>\n",
       "      <td>1</td>\n",
       "      <td>20</td>\n",
       "      <td>3</td>\n",
       "    </tr>\n",
       "    <tr>\n",
       "      <th>4</th>\n",
       "      <td>4</td>\n",
       "      <td>2</td>\n",
       "      <td>29</td>\n",
       "      <td>4</td>\n",
       "    </tr>\n",
       "    <tr>\n",
       "      <th>5</th>\n",
       "      <td>5</td>\n",
       "      <td>2</td>\n",
       "      <td>22</td>\n",
       "      <td>5</td>\n",
       "    </tr>\n",
       "    <tr>\n",
       "      <th>6</th>\n",
       "      <td>6</td>\n",
       "      <td>1</td>\n",
       "      <td>21</td>\n",
       "      <td>6</td>\n",
       "    </tr>\n",
       "    <tr>\n",
       "      <th>7</th>\n",
       "      <td>7</td>\n",
       "      <td>2</td>\n",
       "      <td>18</td>\n",
       "      <td>0</td>\n",
       "    </tr>\n",
       "    <tr>\n",
       "      <th>8</th>\n",
       "      <td>8</td>\n",
       "      <td>2</td>\n",
       "      <td>28</td>\n",
       "      <td>3</td>\n",
       "    </tr>\n",
       "    <tr>\n",
       "      <th>9</th>\n",
       "      <td>9</td>\n",
       "      <td>1</td>\n",
       "      <td>15</td>\n",
       "      <td>7</td>\n",
       "    </tr>\n",
       "  </tbody>\n",
       "</table>\n",
       "</div>"
      ],
      "text/plain": [
       "   user_id  sex  age  city_id\n",
       "0        0    2   19        0\n",
       "1        1    1    0        1\n",
       "2        2    2   24        2\n",
       "3        3    1   20        3\n",
       "4        4    2   29        4\n",
       "5        5    2   22        5\n",
       "6        6    1   21        6\n",
       "7        7    2   18        0\n",
       "8        8    2   28        3\n",
       "9        9    1   15        7"
      ]
     },
     "execution_count": 83,
     "metadata": {},
     "output_type": "execute_result"
    }
   ],
   "source": [
    "df_users_data = pd.read_csv('../../users.tsv', sep='\\t')\n",
    "df_users_data.head(10)"
   ]
  },
  {
   "cell_type": "code",
   "execution_count": 84,
   "id": "7ee4172d-21cb-4483-a644-3745fc1978b6",
   "metadata": {},
   "outputs": [
    {
     "name": "stdout",
     "output_type": "stream",
     "text": [
      "28.0\n"
     ]
    }
   ],
   "source": [
    "median_users = df_users_data.loc[df_users_data['age'] != 0, 'age'].median()\n",
    "print(median_users)\n",
    "df_users_data['age'] = df_users_data['age'].replace(0, median_users)"
   ]
  },
  {
   "cell_type": "markdown",
   "id": "eeac179f-bd2d-4aed-8b05-5f45a9de296f",
   "metadata": {},
   "source": [
    "## Провёл замену по столбцу 'age'"
   ]
  },
  {
   "cell_type": "code",
   "execution_count": 85,
   "id": "e05c1344-8e27-4a75-a629-5f6ee6182a0d",
   "metadata": {
    "ExecuteTime": {
     "end_time": "2025-02-11T08:12:34.913731Z",
     "start_time": "2025-02-11T08:12:34.905613Z"
    }
   },
   "outputs": [
    {
     "name": "stdout",
     "output_type": "stream",
     "text": [
      "0.0\n"
     ]
    }
   ],
   "source": [
    "age_0_ratio = (df_users_data['age'] == 0).sum() / len(df_users_data)\n",
    "print(age_0_ratio)"
   ]
  },
  {
   "cell_type": "code",
   "execution_count": 86,
   "id": "5fe97723-0c44-45ff-bf50-7fa5d7a3ca42",
   "metadata": {
    "ExecuteTime": {
     "end_time": "2025-02-11T08:12:36.963445Z",
     "start_time": "2025-02-11T08:12:36.091648Z"
    }
   },
   "outputs": [
    {
     "data": {
      "text/plain": [
       "array([[<Axes: title={'center': 'user_id'}>,\n",
       "        <Axes: title={'center': 'sex'}>],\n",
       "       [<Axes: title={'center': 'age'}>,\n",
       "        <Axes: title={'center': 'city_id'}>]], dtype=object)"
      ]
     },
     "execution_count": 86,
     "metadata": {},
     "output_type": "execute_result"
    },
    {
     "data": {
      "image/png": "[encoded data removed]",
      "text/plain": [
       "<Figure size 1000x1000 with 4 Axes>"
      ]
     },
     "metadata": {},
     "output_type": "display_data"
    }
   ],
   "source": [
    "df_users_data.hist(figsize=(10, 10))"
   ]
  },
  {
   "cell_type": "code",
   "execution_count": 87,
   "id": "85a8d95e-e2ee-49b6-ac2d-5cd79cf06fcb",
   "metadata": {
    "ExecuteTime": {
     "end_time": "2025-02-11T08:12:41.586263Z",
     "start_time": "2025-02-11T08:12:41.216227Z"
    }
   },
   "outputs": [
    {
     "data": {
      "text/html": [
       "<div>\n",
       "<style scoped>\n",
       "    .dataframe tbody tr th:only-of-type {\n",
       "        vertical-align: middle;\n",
       "    }\n",
       "\n",
       "    .dataframe tbody tr th {\n",
       "        vertical-align: top;\n",
       "    }\n",
       "\n",
       "    .dataframe thead th {\n",
       "        text-align: right;\n",
       "    }\n",
       "</style>\n",
       "<table border=\"1\" class=\"dataframe\">\n",
       "  <thead>\n",
       "    <tr style=\"text-align: right;\">\n",
       "      <th></th>\n",
       "      <th>hour</th>\n",
       "      <th>cpm</th>\n",
       "      <th>publisher</th>\n",
       "      <th>user_id</th>\n",
       "    </tr>\n",
       "  </thead>\n",
       "  <tbody>\n",
       "    <tr>\n",
       "      <th>0</th>\n",
       "      <td>10</td>\n",
       "      <td>30.00</td>\n",
       "      <td>1</td>\n",
       "      <td>15661</td>\n",
       "    </tr>\n",
       "    <tr>\n",
       "      <th>1</th>\n",
       "      <td>8</td>\n",
       "      <td>41.26</td>\n",
       "      <td>1</td>\n",
       "      <td>8444</td>\n",
       "    </tr>\n",
       "    <tr>\n",
       "      <th>2</th>\n",
       "      <td>7</td>\n",
       "      <td>360.00</td>\n",
       "      <td>1</td>\n",
       "      <td>15821</td>\n",
       "    </tr>\n",
       "    <tr>\n",
       "      <th>3</th>\n",
       "      <td>18</td>\n",
       "      <td>370.00</td>\n",
       "      <td>1</td>\n",
       "      <td>21530</td>\n",
       "    </tr>\n",
       "    <tr>\n",
       "      <th>4</th>\n",
       "      <td>8</td>\n",
       "      <td>195.00</td>\n",
       "      <td>2</td>\n",
       "      <td>22148</td>\n",
       "    </tr>\n",
       "    <tr>\n",
       "      <th>5</th>\n",
       "      <td>5</td>\n",
       "      <td>70.00</td>\n",
       "      <td>2</td>\n",
       "      <td>16334</td>\n",
       "    </tr>\n",
       "    <tr>\n",
       "      <th>6</th>\n",
       "      <td>10</td>\n",
       "      <td>73.22</td>\n",
       "      <td>1</td>\n",
       "      <td>25931</td>\n",
       "    </tr>\n",
       "    <tr>\n",
       "      <th>7</th>\n",
       "      <td>6</td>\n",
       "      <td>60.00</td>\n",
       "      <td>1</td>\n",
       "      <td>26199</td>\n",
       "    </tr>\n",
       "    <tr>\n",
       "      <th>8</th>\n",
       "      <td>21</td>\n",
       "      <td>125.46</td>\n",
       "      <td>1</td>\n",
       "      <td>9603</td>\n",
       "    </tr>\n",
       "    <tr>\n",
       "      <th>9</th>\n",
       "      <td>22</td>\n",
       "      <td>165.00</td>\n",
       "      <td>2</td>\n",
       "      <td>4624</td>\n",
       "    </tr>\n",
       "  </tbody>\n",
       "</table>\n",
       "</div>"
      ],
      "text/plain": [
       "   hour     cpm  publisher  user_id\n",
       "0    10   30.00          1    15661\n",
       "1     8   41.26          1     8444\n",
       "2     7  360.00          1    15821\n",
       "3    18  370.00          1    21530\n",
       "4     8  195.00          2    22148\n",
       "5     5   70.00          2    16334\n",
       "6    10   73.22          1    25931\n",
       "7     6   60.00          1    26199\n",
       "8    21  125.46          1     9603\n",
       "9    22  165.00          2     4624"
      ]
     },
     "execution_count": 87,
     "metadata": {},
     "output_type": "execute_result"
    }
   ],
   "source": [
    "df_history_data = pd.read_csv('../../history.tsv', sep='\\t')\n",
    "df_history_data.head(10)"
   ]
  },
  {
   "cell_type": "code",
   "execution_count": 88,
   "id": "0133603f-9ffb-4430-bb20-63be7ee63964",
   "metadata": {
    "ExecuteTime": {
     "end_time": "2025-02-11T08:21:57.116992Z",
     "start_time": "2025-02-11T08:21:56.581014Z"
    }
   },
   "outputs": [
    {
     "name": "stdout",
     "output_type": "stream",
     "text": [
      "   user_id  sex  age  city_id  hour      cpm  publisher\n",
      "0        0    2   19        0  1186   805.65          1\n",
      "1        0    2   19        0  1217  3302.01          1\n",
      "2        1    1   28        1     8   165.00          1\n",
      "3        1    1   28        1     9    53.20          1\n",
      "4        1    1   28        1     9    36.00          1\n",
      "5        1    1   28        1     9    51.00          1\n",
      "6        1    1   28        1    34    30.00          1\n",
      "7        1    1   28        1    34    90.00          1\n",
      "8        1    1   28        1    57   222.00          1\n",
      "9        1    1   28        1    68    45.00          1\n"
     ]
    },
    {
     "data": {
      "image/png": "[encoded data removed]",
      "text/plain": [
       "<Figure size 800x500 with 2 Axes>"
      ]
     },
     "metadata": {},
     "output_type": "display_data"
    }
   ],
   "source": [
    "users_copy = df_users_data.copy()\n",
    "history_copy = df_history_data.copy()\n",
    "\n",
    "result = pd.merge(df_users_data, df_history_data, on='user_id', how='inner')\n",
    "print(result.head(10))\n",
    "\n",
    "plt.figure(figsize=(8, 5))\n",
    "sns.heatmap(result.corr(), annot=True, cmap='coolwarm', fmt=\".2f\")\n",
    "plt.show()"
   ]
  },
  {
   "cell_type": "code",
   "execution_count": 89,
   "id": "8dc7ed13-9cd7-45a6-9c05-5e553c2b1802",
   "metadata": {
    "ExecuteTime": {
     "end_time": "2025-02-11T08:12:52.856887Z",
     "start_time": "2025-02-11T08:12:52.769189Z"
    }
   },
   "outputs": [
    {
     "name": "stdout",
     "output_type": "stream",
     "text": [
      "MIN: 3  MAX: 504\n"
     ]
    },
    {
     "data": {
      "text/html": [
       "<div>\n",
       "<style scoped>\n",
       "    .dataframe tbody tr th:only-of-type {\n",
       "        vertical-align: middle;\n",
       "    }\n",
       "\n",
       "    .dataframe tbody tr th {\n",
       "        vertical-align: top;\n",
       "    }\n",
       "\n",
       "    .dataframe thead th {\n",
       "        text-align: right;\n",
       "    }\n",
       "</style>\n",
       "<table border=\"1\" class=\"dataframe\">\n",
       "  <thead>\n",
       "    <tr style=\"text-align: right;\">\n",
       "      <th></th>\n",
       "      <th>cpm</th>\n",
       "      <th>hour_start</th>\n",
       "      <th>hour_end</th>\n",
       "      <th>publishers</th>\n",
       "      <th>audience_size</th>\n",
       "      <th>user_ids</th>\n",
       "      <th>time_segment</th>\n",
       "    </tr>\n",
       "  </thead>\n",
       "  <tbody>\n",
       "    <tr>\n",
       "      <th>0</th>\n",
       "      <td>220.0</td>\n",
       "      <td>1058</td>\n",
       "      <td>1153</td>\n",
       "      <td>7,17</td>\n",
       "      <td>1906</td>\n",
       "      <td>12,44,46,50,58,71,93,122,134,143,176,184,187,1...</td>\n",
       "      <td>96</td>\n",
       "    </tr>\n",
       "    <tr>\n",
       "      <th>1</th>\n",
       "      <td>312.0</td>\n",
       "      <td>1295</td>\n",
       "      <td>1301</td>\n",
       "      <td>3,18</td>\n",
       "      <td>1380</td>\n",
       "      <td>29,81,98,102,165,167,195,205,218,231,242,263,3...</td>\n",
       "      <td>7</td>\n",
       "    </tr>\n",
       "    <tr>\n",
       "      <th>2</th>\n",
       "      <td>70.0</td>\n",
       "      <td>1229</td>\n",
       "      <td>1249</td>\n",
       "      <td>1,2,3,9,15,21</td>\n",
       "      <td>888</td>\n",
       "      <td>12,23,25,29,45,85,92,124,156,190,272,334,456,5...</td>\n",
       "      <td>21</td>\n",
       "    </tr>\n",
       "    <tr>\n",
       "      <th>3</th>\n",
       "      <td>240.0</td>\n",
       "      <td>1295</td>\n",
       "      <td>1377</td>\n",
       "      <td>1,14</td>\n",
       "      <td>440</td>\n",
       "      <td>44,122,187,209,242,255,312,345,382,465,513,524...</td>\n",
       "      <td>83</td>\n",
       "    </tr>\n",
       "    <tr>\n",
       "      <th>4</th>\n",
       "      <td>262.0</td>\n",
       "      <td>752</td>\n",
       "      <td>990</td>\n",
       "      <td>1,3,7,8</td>\n",
       "      <td>1476</td>\n",
       "      <td>15,24,30,43,50,53,96,105,159,168,181,190,196,2...</td>\n",
       "      <td>239</td>\n",
       "    </tr>\n",
       "    <tr>\n",
       "      <th>5</th>\n",
       "      <td>141.0</td>\n",
       "      <td>1288</td>\n",
       "      <td>1322</td>\n",
       "      <td>3,8,11,15</td>\n",
       "      <td>856</td>\n",
       "      <td>111,217,235,247,292,340,398,540,541,546,581,61...</td>\n",
       "      <td>35</td>\n",
       "    </tr>\n",
       "    <tr>\n",
       "      <th>6</th>\n",
       "      <td>250.0</td>\n",
       "      <td>1198</td>\n",
       "      <td>1451</td>\n",
       "      <td>1,3,7,10,13,18</td>\n",
       "      <td>336</td>\n",
       "      <td>24,43,96,124,150,256,299,313,430,450,552,557,5...</td>\n",
       "      <td>254</td>\n",
       "    </tr>\n",
       "    <tr>\n",
       "      <th>7</th>\n",
       "      <td>280.0</td>\n",
       "      <td>1029</td>\n",
       "      <td>1070</td>\n",
       "      <td>1,2,7</td>\n",
       "      <td>616</td>\n",
       "      <td>32,133,139,193,270,299,334,354,424,437,452,537...</td>\n",
       "      <td>42</td>\n",
       "    </tr>\n",
       "    <tr>\n",
       "      <th>8</th>\n",
       "      <td>270.0</td>\n",
       "      <td>978</td>\n",
       "      <td>994</td>\n",
       "      <td>2,11</td>\n",
       "      <td>484</td>\n",
       "      <td>52,57,139,249,290,311,327,374,488,614,751,753,...</td>\n",
       "      <td>17</td>\n",
       "    </tr>\n",
       "    <tr>\n",
       "      <th>9</th>\n",
       "      <td>250.0</td>\n",
       "      <td>1440</td>\n",
       "      <td>1442</td>\n",
       "      <td>2,3</td>\n",
       "      <td>972</td>\n",
       "      <td>46,58,176,209,255,284,305,312,367,410,427,513,...</td>\n",
       "      <td>3</td>\n",
       "    </tr>\n",
       "  </tbody>\n",
       "</table>\n",
       "</div>"
      ],
      "text/plain": [
       "     cpm  hour_start  hour_end      publishers  audience_size  \\\n",
       "0  220.0        1058      1153            7,17           1906   \n",
       "1  312.0        1295      1301            3,18           1380   \n",
       "2   70.0        1229      1249   1,2,3,9,15,21            888   \n",
       "3  240.0        1295      1377            1,14            440   \n",
       "4  262.0         752       990         1,3,7,8           1476   \n",
       "5  141.0        1288      1322       3,8,11,15            856   \n",
       "6  250.0        1198      1451  1,3,7,10,13,18            336   \n",
       "7  280.0        1029      1070           1,2,7            616   \n",
       "8  270.0         978       994            2,11            484   \n",
       "9  250.0        1440      1442             2,3            972   \n",
       "\n",
       "                                            user_ids  time_segment  \n",
       "0  12,44,46,50,58,71,93,122,134,143,176,184,187,1...            96  \n",
       "1  29,81,98,102,165,167,195,205,218,231,242,263,3...             7  \n",
       "2  12,23,25,29,45,85,92,124,156,190,272,334,456,5...            21  \n",
       "3  44,122,187,209,242,255,312,345,382,465,513,524...            83  \n",
       "4  15,24,30,43,50,53,96,105,159,168,181,190,196,2...           239  \n",
       "5  111,217,235,247,292,340,398,540,541,546,581,61...            35  \n",
       "6  24,43,96,124,150,256,299,313,430,450,552,557,5...           254  \n",
       "7  32,133,139,193,270,299,334,354,424,437,452,537...            42  \n",
       "8  52,57,139,249,290,311,327,374,488,614,751,753,...            17  \n",
       "9  46,58,176,209,255,284,305,312,367,410,427,513,...             3  "
      ]
     },
     "execution_count": 89,
     "metadata": {},
     "output_type": "execute_result"
    }
   ],
   "source": [
    "df_validate_data = pd.read_csv('../../validate.tsv', sep='\\t')\n",
    "df_validate_data['time_segment'] = df_validate_data['hour_end'] - df_validate_data['hour_start'] + 1\n",
    "print(f'MIN: {df_validate_data['time_segment'].min()} ', f'MAX: {df_validate_data['time_segment'].max()}')\n",
    "df_validate_data.head(10) # добавить перцетиль мужчин + попробовать интерпретировать списки"
   ]
  },
  {
   "cell_type": "code",
   "execution_count": 90,
   "id": "b0accd43-3b32-4b10-ab2f-33f6089dcb58",
   "metadata": {},
   "outputs": [
    {
     "data": {
      "text/html": [
       "<div>\n",
       "<style scoped>\n",
       "    .dataframe tbody tr th:only-of-type {\n",
       "        vertical-align: middle;\n",
       "    }\n",
       "\n",
       "    .dataframe tbody tr th {\n",
       "        vertical-align: top;\n",
       "    }\n",
       "\n",
       "    .dataframe thead th {\n",
       "        text-align: right;\n",
       "    }\n",
       "</style>\n",
       "<table border=\"1\" class=\"dataframe\">\n",
       "  <thead>\n",
       "    <tr style=\"text-align: right;\">\n",
       "      <th></th>\n",
       "      <th>cpm</th>\n",
       "      <th>hour_start</th>\n",
       "      <th>hour_end</th>\n",
       "      <th>audience_size</th>\n",
       "      <th>user_ids</th>\n",
       "      <th>time_segment</th>\n",
       "      <th>publisher_1</th>\n",
       "      <th>publisher_10</th>\n",
       "      <th>publisher_11</th>\n",
       "      <th>publisher_12</th>\n",
       "      <th>...</th>\n",
       "      <th>publisher_2</th>\n",
       "      <th>publisher_20</th>\n",
       "      <th>publisher_21</th>\n",
       "      <th>publisher_3</th>\n",
       "      <th>publisher_4</th>\n",
       "      <th>publisher_5</th>\n",
       "      <th>publisher_6</th>\n",
       "      <th>publisher_7</th>\n",
       "      <th>publisher_8</th>\n",
       "      <th>publisher_9</th>\n",
       "    </tr>\n",
       "  </thead>\n",
       "  <tbody>\n",
       "    <tr>\n",
       "      <th>0</th>\n",
       "      <td>220.0</td>\n",
       "      <td>1058</td>\n",
       "      <td>1153</td>\n",
       "      <td>1906</td>\n",
       "      <td>12,44,46,50,58,71,93,122,134,143,176,184,187,1...</td>\n",
       "      <td>96</td>\n",
       "      <td>0</td>\n",
       "      <td>0</td>\n",
       "      <td>0</td>\n",
       "      <td>0</td>\n",
       "      <td>...</td>\n",
       "      <td>0</td>\n",
       "      <td>0</td>\n",
       "      <td>0</td>\n",
       "      <td>0</td>\n",
       "      <td>0</td>\n",
       "      <td>0</td>\n",
       "      <td>0</td>\n",
       "      <td>1</td>\n",
       "      <td>0</td>\n",
       "      <td>0</td>\n",
       "    </tr>\n",
       "    <tr>\n",
       "      <th>1</th>\n",
       "      <td>312.0</td>\n",
       "      <td>1295</td>\n",
       "      <td>1301</td>\n",
       "      <td>1380</td>\n",
       "      <td>29,81,98,102,165,167,195,205,218,231,242,263,3...</td>\n",
       "      <td>7</td>\n",
       "      <td>0</td>\n",
       "      <td>0</td>\n",
       "      <td>0</td>\n",
       "      <td>0</td>\n",
       "      <td>...</td>\n",
       "      <td>0</td>\n",
       "      <td>0</td>\n",
       "      <td>0</td>\n",
       "      <td>1</td>\n",
       "      <td>0</td>\n",
       "      <td>0</td>\n",
       "      <td>0</td>\n",
       "      <td>0</td>\n",
       "      <td>0</td>\n",
       "      <td>0</td>\n",
       "    </tr>\n",
       "    <tr>\n",
       "      <th>2</th>\n",
       "      <td>70.0</td>\n",
       "      <td>1229</td>\n",
       "      <td>1249</td>\n",
       "      <td>888</td>\n",
       "      <td>12,23,25,29,45,85,92,124,156,190,272,334,456,5...</td>\n",
       "      <td>21</td>\n",
       "      <td>1</td>\n",
       "      <td>0</td>\n",
       "      <td>0</td>\n",
       "      <td>0</td>\n",
       "      <td>...</td>\n",
       "      <td>1</td>\n",
       "      <td>0</td>\n",
       "      <td>1</td>\n",
       "      <td>1</td>\n",
       "      <td>0</td>\n",
       "      <td>0</td>\n",
       "      <td>0</td>\n",
       "      <td>0</td>\n",
       "      <td>0</td>\n",
       "      <td>1</td>\n",
       "    </tr>\n",
       "    <tr>\n",
       "      <th>3</th>\n",
       "      <td>240.0</td>\n",
       "      <td>1295</td>\n",
       "      <td>1377</td>\n",
       "      <td>440</td>\n",
       "      <td>44,122,187,209,242,255,312,345,382,465,513,524...</td>\n",
       "      <td>83</td>\n",
       "      <td>1</td>\n",
       "      <td>0</td>\n",
       "      <td>0</td>\n",
       "      <td>0</td>\n",
       "      <td>...</td>\n",
       "      <td>0</td>\n",
       "      <td>0</td>\n",
       "      <td>0</td>\n",
       "      <td>0</td>\n",
       "      <td>0</td>\n",
       "      <td>0</td>\n",
       "      <td>0</td>\n",
       "      <td>0</td>\n",
       "      <td>0</td>\n",
       "      <td>0</td>\n",
       "    </tr>\n",
       "    <tr>\n",
       "      <th>4</th>\n",
       "      <td>262.0</td>\n",
       "      <td>752</td>\n",
       "      <td>990</td>\n",
       "      <td>1476</td>\n",
       "      <td>15,24,30,43,50,53,96,105,159,168,181,190,196,2...</td>\n",
       "      <td>239</td>\n",
       "      <td>1</td>\n",
       "      <td>0</td>\n",
       "      <td>0</td>\n",
       "      <td>0</td>\n",
       "      <td>...</td>\n",
       "      <td>0</td>\n",
       "      <td>0</td>\n",
       "      <td>0</td>\n",
       "      <td>1</td>\n",
       "      <td>0</td>\n",
       "      <td>0</td>\n",
       "      <td>0</td>\n",
       "      <td>1</td>\n",
       "      <td>1</td>\n",
       "      <td>0</td>\n",
       "    </tr>\n",
       "  </tbody>\n",
       "</table>\n",
       "<p>5 rows × 27 columns</p>\n",
       "</div>"
      ],
      "text/plain": [
       "     cpm  hour_start  hour_end  audience_size  \\\n",
       "0  220.0        1058      1153           1906   \n",
       "1  312.0        1295      1301           1380   \n",
       "2   70.0        1229      1249            888   \n",
       "3  240.0        1295      1377            440   \n",
       "4  262.0         752       990           1476   \n",
       "\n",
       "                                            user_ids  time_segment  \\\n",
       "0  12,44,46,50,58,71,93,122,134,143,176,184,187,1...            96   \n",
       "1  29,81,98,102,165,167,195,205,218,231,242,263,3...             7   \n",
       "2  12,23,25,29,45,85,92,124,156,190,272,334,456,5...            21   \n",
       "3  44,122,187,209,242,255,312,345,382,465,513,524...            83   \n",
       "4  15,24,30,43,50,53,96,105,159,168,181,190,196,2...           239   \n",
       "\n",
       "   publisher_1  publisher_10  publisher_11  publisher_12  ...  publisher_2  \\\n",
       "0            0             0             0             0  ...            0   \n",
       "1            0             0             0             0  ...            0   \n",
       "2            1             0             0             0  ...            1   \n",
       "3            1             0             0             0  ...            0   \n",
       "4            1             0             0             0  ...            0   \n",
       "\n",
       "   publisher_20  publisher_21  publisher_3  publisher_4  publisher_5  \\\n",
       "0             0             0            0            0            0   \n",
       "1             0             0            1            0            0   \n",
       "2             0             1            1            0            0   \n",
       "3             0             0            0            0            0   \n",
       "4             0             0            1            0            0   \n",
       "\n",
       "   publisher_6  publisher_7  publisher_8  publisher_9  \n",
       "0            0            1            0            0  \n",
       "1            0            0            0            0  \n",
       "2            0            0            0            1  \n",
       "3            0            0            0            0  \n",
       "4            0            1            1            0  \n",
       "\n",
       "[5 rows x 27 columns]"
      ]
     },
     "execution_count": 90,
     "metadata": {},
     "output_type": "execute_result"
    }
   ],
   "source": [
    "df_validate_data['publishers'] = df_validate_data['publishers'].apply(lambda x: x.split(','))\n",
    "\n",
    "mlb = MultiLabelBinarizer()\n",
    "publishers_ohe = mlb.fit_transform(df_validate_data['publishers'])\n",
    "publishers_df = pd.DataFrame(publishers_ohe, columns=[f'publisher_{p}' for p in mlb.classes_])\n",
    "\n",
    "df_validate_data = df_validate_data.drop(columns=['publishers']).join(publishers_df)\n",
    "\n",
    "df_validate_data.head()"
   ]
  },
  {
   "cell_type": "code",
   "execution_count": 91,
   "id": "da49bd9c-4841-42fd-b550-f93ace718da5",
   "metadata": {
    "ExecuteTime": {
     "end_time": "2025-02-11T08:12:54.701646Z",
     "start_time": "2025-02-11T08:12:54.693361Z"
    }
   },
   "outputs": [
    {
     "data": {
      "text/plain": [
       "(1008, 27)"
      ]
     },
     "execution_count": 91,
     "metadata": {},
     "output_type": "execute_result"
    }
   ],
   "source": [
    "df_validate_data.shape"
   ]
  },
  {
   "cell_type": "markdown",
   "id": "c6733aa2-6337-427a-97bb-f44689c0d409",
   "metadata": {},
   "source": [
    "### Таргеты на эвале"
   ]
  },
  {
   "cell_type": "code",
   "execution_count": 93,
   "id": "a6fdc856-1f38-4554-9c89-53b1eb7d9587",
   "metadata": {
    "ExecuteTime": {
     "end_time": "2025-02-11T08:13:01.538655Z",
     "start_time": "2025-02-11T08:13:01.513754Z"
    }
   },
   "outputs": [
    {
     "data": {
      "text/html": [
       "<div>\n",
       "<style scoped>\n",
       "    .dataframe tbody tr th:only-of-type {\n",
       "        vertical-align: middle;\n",
       "    }\n",
       "\n",
       "    .dataframe tbody tr th {\n",
       "        vertical-align: top;\n",
       "    }\n",
       "\n",
       "    .dataframe thead th {\n",
       "        text-align: right;\n",
       "    }\n",
       "</style>\n",
       "<table border=\"1\" class=\"dataframe\">\n",
       "  <thead>\n",
       "    <tr style=\"text-align: right;\">\n",
       "      <th></th>\n",
       "      <th>at_least_one</th>\n",
       "      <th>at_least_two</th>\n",
       "      <th>at_least_three</th>\n",
       "    </tr>\n",
       "  </thead>\n",
       "  <tbody>\n",
       "    <tr>\n",
       "      <th>0</th>\n",
       "      <td>0.0430</td>\n",
       "      <td>0.0152</td>\n",
       "      <td>0.0073</td>\n",
       "    </tr>\n",
       "    <tr>\n",
       "      <th>1</th>\n",
       "      <td>0.0130</td>\n",
       "      <td>0.0000</td>\n",
       "      <td>0.0000</td>\n",
       "    </tr>\n",
       "    <tr>\n",
       "      <th>2</th>\n",
       "      <td>0.0878</td>\n",
       "      <td>0.0135</td>\n",
       "      <td>0.0000</td>\n",
       "    </tr>\n",
       "    <tr>\n",
       "      <th>3</th>\n",
       "      <td>0.2295</td>\n",
       "      <td>0.1295</td>\n",
       "      <td>0.0727</td>\n",
       "    </tr>\n",
       "    <tr>\n",
       "      <th>4</th>\n",
       "      <td>0.3963</td>\n",
       "      <td>0.2785</td>\n",
       "      <td>0.2270</td>\n",
       "    </tr>\n",
       "    <tr>\n",
       "      <th>5</th>\n",
       "      <td>0.0187</td>\n",
       "      <td>0.0035</td>\n",
       "      <td>0.0012</td>\n",
       "    </tr>\n",
       "    <tr>\n",
       "      <th>6</th>\n",
       "      <td>0.3839</td>\n",
       "      <td>0.2917</td>\n",
       "      <td>0.2202</td>\n",
       "    </tr>\n",
       "    <tr>\n",
       "      <th>7</th>\n",
       "      <td>0.3198</td>\n",
       "      <td>0.1396</td>\n",
       "      <td>0.0552</td>\n",
       "    </tr>\n",
       "    <tr>\n",
       "      <th>8</th>\n",
       "      <td>0.0062</td>\n",
       "      <td>0.0000</td>\n",
       "      <td>0.0000</td>\n",
       "    </tr>\n",
       "    <tr>\n",
       "      <th>9</th>\n",
       "      <td>0.0082</td>\n",
       "      <td>0.0000</td>\n",
       "      <td>0.0000</td>\n",
       "    </tr>\n",
       "  </tbody>\n",
       "</table>\n",
       "</div>"
      ],
      "text/plain": [
       "   at_least_one  at_least_two  at_least_three\n",
       "0        0.0430        0.0152          0.0073\n",
       "1        0.0130        0.0000          0.0000\n",
       "2        0.0878        0.0135          0.0000\n",
       "3        0.2295        0.1295          0.0727\n",
       "4        0.3963        0.2785          0.2270\n",
       "5        0.0187        0.0035          0.0012\n",
       "6        0.3839        0.2917          0.2202\n",
       "7        0.3198        0.1396          0.0552\n",
       "8        0.0062        0.0000          0.0000\n",
       "9        0.0082        0.0000          0.0000"
      ]
     },
     "execution_count": 93,
     "metadata": {},
     "output_type": "execute_result"
    }
   ],
   "source": [
    "df_validate_answers_data = pd.read_csv('../../validate_answers.tsv', sep='\\t')\n",
    "df_validate_answers_data.head(10)"
   ]
  },
  {
   "cell_type": "code",
   "execution_count": 94,
   "id": "e423f89f-d0c2-4d65-bfe0-e4c92cf3f582",
   "metadata": {
    "ExecuteTime": {
     "end_time": "2025-02-11T08:13:03.054578Z",
     "start_time": "2025-02-11T08:13:03.046381Z"
    }
   },
   "outputs": [
    {
     "data": {
      "text/plain": [
       "(1008, 3)"
      ]
     },
     "execution_count": 94,
     "metadata": {},
     "output_type": "execute_result"
    }
   ],
   "source": [
    "df_validate_answers_data.shape"
   ]
  },
  {
   "cell_type": "markdown",
   "id": "02b6cbd0-0b9b-45c4-a872-1cdda018e882",
   "metadata": {},
   "source": [
    "## TASK LIST"
   ]
  },
  {
   "cell_type": "markdown",
   "id": "0bf66eb4-551b-42af-b6cf-93fd840eb097",
   "metadata": {},
   "source": [
    "1. Нормализуем данные и склеиваем всё в одну таблицу\n",
    "2. Проанализировать выбросы и на новой таблице построить ```heatmap```\n",
    "3. OHE по ```publishers``` и encoding времени (каким-нибудь, возможно с шагом 10)\n",
    "4. Добавить фичу среднего по пользователям, процент мальчиков, средний возраст\n",
    "5. Провести аналитику по городам\n",
    "6. Города поделить на категории как там часто видят рекламу"
   ]
  },
  {
   "cell_type": "markdown",
   "id": "8772e82d-f475-48b0-8921-db0751ce891c",
   "metadata": {},
   "source": [
    "1. Заменить лист юзеров на усреднённые признаки\n",
    "2. Применить какую-нибудь модель к этим данным\n",
    "3. Посмотреть минимальные веса и откинуть их"
   ]
  },
  {
   "cell_type": "code",
   "execution_count": null,
   "id": "5585691f-d3d9-4d7b-a4f2-dcb5de1ba7fa",
   "metadata": {},
   "outputs": [],
   "source": []
  }
 ],
 "metadata": {
  "kernelspec": {
   "display_name": "Python 3 (ipykernel)",
   "language": "python",
   "name": "python3"
  },
  "language_info": {
   "codemirror_mode": {
    "name": "ipython",
    "version": 3
   },
   "file_extension": ".py",
   "mimetype": "text/x-python",
   "name": "python",
   "nbconvert_exporter": "python",
   "pygments_lexer": "ipython3",
   "version": "3.12.8"
  }
 },
 "nbformat": 4,
 "nbformat_minor": 5
}
